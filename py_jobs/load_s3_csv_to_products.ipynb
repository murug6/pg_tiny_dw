{
 "cells": [
  {
   "cell_type": "markdown",
   "id": "3faa6248-f992-4517-b31a-7dd0ccb9a31c",
   "metadata": {},
   "source": [
    "master data of product will be loaded via S3\n",
    "upload to S3 will trigger lambda\n",
    "lambda will load CSV to customer"
   ]
  }
 ],
 "metadata": {
  "kernelspec": {
   "display_name": "Python 3 (ipykernel)",
   "language": "python",
   "name": "python3"
  },
  "language_info": {
   "codemirror_mode": {
    "name": "ipython",
    "version": 3
   },
   "file_extension": ".py",
   "mimetype": "text/x-python",
   "name": "python",
   "nbconvert_exporter": "python",
   "pygments_lexer": "ipython3",
   "version": "3.7.10"
  }
 },
 "nbformat": 4,
 "nbformat_minor": 5
}
