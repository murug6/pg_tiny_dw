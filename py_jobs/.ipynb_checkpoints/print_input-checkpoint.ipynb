{
 "cells": [
  {
   "cell_type": "markdown",
   "id": "c429a951-0b87-4a63-915f-a270216f019e",
   "metadata": {},
   "source": [
    "print and input are inbuilt funtions of python"
   ]
  },
  {
   "cell_type": "code",
   "execution_count": 1,
   "id": "ede3d423-5196-4f73-9d3d-bd64cabaa112",
   "metadata": {},
   "outputs": [
    {
     "name": "stdin",
     "output_type": "stream",
     "text": [
      "enter your name:  Murugesan Mariappan\n"
     ]
    }
   ],
   "source": [
    "s = input(\"enter your name: \")"
   ]
  },
  {
   "cell_type": "code",
   "execution_count": 2,
   "id": "b222ddba-7da8-4d05-8511-8adbb761a599",
   "metadata": {},
   "outputs": [
    {
     "name": "stdout",
     "output_type": "stream",
     "text": [
      "Murugesan Mariappan\n"
     ]
    }
   ],
   "source": [
    "print(s)"
   ]
  },
  {
   "cell_type": "code",
   "execution_count": 3,
   "id": "ff193e6e-1531-4ab6-a458-18cb172e3090",
   "metadata": {},
   "outputs": [
    {
     "data": {
      "text/plain": [
       "\u001b[1;31mSignature:\u001b[0m \u001b[0minput\u001b[0m\u001b[1;33m(\u001b[0m\u001b[0mprompt\u001b[0m\u001b[1;33m=\u001b[0m\u001b[1;34m''\u001b[0m\u001b[1;33m)\u001b[0m\u001b[1;33m\u001b[0m\u001b[1;33m\u001b[0m\u001b[0m\n",
       "\u001b[1;31mDocstring:\u001b[0m\n",
       "Forward raw_input to frontends\n",
       "\n",
       "Raises\n",
       "------\n",
       "StdinNotImplementedError if active frontend doesn't support stdin.\n",
       "\u001b[1;31mFile:\u001b[0m      c:\\users\\mmuru\\jupy_lab\\lib\\site-packages\\ipykernel\\kernelbase.py\n",
       "\u001b[1;31mType:\u001b[0m      method\n"
      ]
     },
     "metadata": {},
     "output_type": "display_data"
    }
   ],
   "source": [
    "input?"
   ]
  },
  {
   "cell_type": "code",
   "execution_count": 4,
   "id": "3352fa4d-f84c-4b9c-8855-5eb8a25d06d6",
   "metadata": {},
   "outputs": [
    {
     "data": {
      "text/plain": [
       "\u001b[1;31mDocstring:\u001b[0m\n",
       "print(value, ..., sep=' ', end='\\n', file=sys.stdout, flush=False)\n",
       "\n",
       "Prints the values to a stream, or to sys.stdout by default.\n",
       "Optional keyword arguments:\n",
       "file:  a file-like object (stream); defaults to the current sys.stdout.\n",
       "sep:   string inserted between values, default a space.\n",
       "end:   string appended after the last value, default a newline.\n",
       "flush: whether to forcibly flush the stream.\n",
       "\u001b[1;31mType:\u001b[0m      builtin_function_or_method\n"
      ]
     },
     "metadata": {},
     "output_type": "display_data"
    }
   ],
   "source": [
    "print?"
   ]
  },
  {
   "cell_type": "markdown",
   "id": "7fcccf6a-1ee5-47a0-acf9-a245eba02dcd",
   "metadata": {},
   "source": [
    "print has 'sep' and 'end' - aruguments. input value for them should be given as an keyword argument"
   ]
  },
  {
   "cell_type": "markdown",
   "id": "ae95e594-69fe-4f44-a8e5-937e2810a12b",
   "metadata": {},
   "source": [
    "they used to format the printing"
   ]
  },
  {
   "cell_type": "code",
   "execution_count": 5,
   "id": "a377c608-1a1d-405f-9eea-174376ff1ce9",
   "metadata": {},
   "outputs": [
    {
     "name": "stdout",
     "output_type": "stream",
     "text": [
      "hello world\n"
     ]
    }
   ],
   "source": [
    "print('hello world')"
   ]
  },
  {
   "cell_type": "code",
   "execution_count": 7,
   "id": "c7c0fbac-daeb-48a5-af89-4ce7b82460e3",
   "metadata": {},
   "outputs": [
    {
     "name": "stdout",
     "output_type": "stream",
     "text": [
      "hello\n",
      "world\n"
     ]
    }
   ],
   "source": [
    "print('hello') # here end of the first string is by default a new line '\\n'\n",
    "print('world')"
   ]
  },
  {
   "cell_type": "code",
   "execution_count": 8,
   "id": "ef27addb-9d70-4beb-a776-6901d39c9bb7",
   "metadata": {},
   "outputs": [
    {
     "name": "stdout",
     "output_type": "stream",
     "text": [
      "hello - world\n"
     ]
    }
   ],
   "source": [
    "print('hello', end=' - ') # here end of the first string is ' - '\n",
    "print('world')"
   ]
  },
  {
   "cell_type": "code",
   "execution_count": 12,
   "id": "9f7720f0-d495-4218-965f-6edd0f7881d5",
   "metadata": {},
   "outputs": [
    {
     "name": "stdout",
     "output_type": "stream",
     "text": [
      "hello wonderful world\n"
     ]
    }
   ],
   "source": [
    "print('hello', 'wonderful', 'world') # here three string are concatenated while printing. not separated space."
   ]
  },
  {
   "cell_type": "code",
   "execution_count": 10,
   "id": "a8a97c22-956c-4f21-87a8-0891ac1c8684",
   "metadata": {},
   "outputs": [
    {
     "name": "stdout",
     "output_type": "stream",
     "text": [
      "hellowonderfulworld\n"
     ]
    }
   ],
   "source": [
    "print('hello', 'wonderful', 'world', sep='') # here three string are concatenated while printing. separated by empty string."
   ]
  },
  {
   "cell_type": "code",
   "execution_count": 11,
   "id": "aba8a50c-94ec-457d-8295-518b3343dd14",
   "metadata": {},
   "outputs": [
    {
     "name": "stdout",
     "output_type": "stream",
     "text": [
      "hello-wonderful-world\n"
     ]
    }
   ],
   "source": [
    "print('hello', 'wonderful', 'world', sep='-') # here three string are concatenated while printing. separated by -."
   ]
  },
  {
   "cell_type": "code",
   "execution_count": null,
   "id": "2ef567d5-5187-4a35-ab6f-1c8b4d8332e7",
   "metadata": {},
   "outputs": [],
   "source": []
  }
 ],
 "metadata": {
  "kernelspec": {
   "display_name": "Python 3 (ipykernel)",
   "language": "python",
   "name": "python3"
  },
  "language_info": {
   "codemirror_mode": {
    "name": "ipython",
    "version": 3
   },
   "file_extension": ".py",
   "mimetype": "text/x-python",
   "name": "python",
   "nbconvert_exporter": "python",
   "pygments_lexer": "ipython3",
   "version": "3.10.1"
  }
 },
 "nbformat": 4,
 "nbformat_minor": 5
}
