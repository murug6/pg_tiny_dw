{
 "cells": [
  {
   "cell_type": "markdown",
   "id": "dc2d4ddb-43f3-4c85-9108-481554b3951d",
   "metadata": {},
   "source": [
    "## Date Manipulation Functions\n",
    "* python has a `date`, `datetime` library to work with dates\n",
    "* `calendar` library to work with calender"
   ]
  },
  {
   "cell_type": "code",
   "execution_count": 20,
   "id": "b175866e-fe17-48fe-a586-dda81989bcf0",
   "metadata": {},
   "outputs": [],
   "source": [
    "from datetime import datetime as DT"
   ]
  },
  {
   "cell_type": "code",
   "execution_count": 4,
   "id": "17339461-01c8-4a87-82d7-2f5cd09ece54",
   "metadata": {},
   "outputs": [
    {
     "data": {
      "text/plain": [
       "\u001b[1;31mDocstring:\u001b[0m string, format -> new datetime parsed from a string (like time.strptime()).\n",
       "\u001b[1;31mType:\u001b[0m      builtin_function_or_method\n"
      ]
     },
     "metadata": {},
     "output_type": "display_data"
    }
   ],
   "source": [
    "d = DT.datetime.strptime?"
   ]
  },
  {
   "cell_type": "code",
   "execution_count": 6,
   "id": "3d79b4d1-3363-407a-867a-8d3d5f99bede",
   "metadata": {},
   "outputs": [],
   "source": [
    "d = DT.datetime.strptime('2022-01-16', '%Y-%m-%d')"
   ]
  },
  {
   "cell_type": "code",
   "execution_count": 7,
   "id": "d6eb425e-0ae6-444b-a18f-8233552de8ba",
   "metadata": {},
   "outputs": [
    {
     "data": {
      "text/plain": [
       "datetime.datetime"
      ]
     },
     "execution_count": 7,
     "metadata": {},
     "output_type": "execute_result"
    }
   ],
   "source": [
    "type(d)"
   ]
  },
  {
   "cell_type": "code",
   "execution_count": 8,
   "id": "e002e5f6-0c31-48dc-a371-5b872f980f3a",
   "metadata": {},
   "outputs": [
    {
     "name": "stdout",
     "output_type": "stream",
     "text": [
      "2022-01-16 00:00:00\n"
     ]
    }
   ],
   "source": [
    "print(d)"
   ]
  },
  {
   "cell_type": "code",
   "execution_count": 9,
   "id": "d30e57a8-8b81-46c9-b1d2-ceb33c8ca84b",
   "metadata": {},
   "outputs": [],
   "source": [
    "d = DT.datetime.strptime('16-01-2022', '%d-%m-%Y')"
   ]
  },
  {
   "cell_type": "code",
   "execution_count": 10,
   "id": "cea1bac9-74b1-49b9-a6d3-7e12eeffe90f",
   "metadata": {},
   "outputs": [
    {
     "name": "stdout",
     "output_type": "stream",
     "text": [
      "2022-01-16 00:00:00\n"
     ]
    }
   ],
   "source": [
    "print(d)"
   ]
  },
  {
   "cell_type": "code",
   "execution_count": 14,
   "id": "f0a5e564-935f-4765-bd80-3a9d93752726",
   "metadata": {},
   "outputs": [
    {
     "data": {
      "text/plain": [
       "'16-01-2022'"
      ]
     },
     "execution_count": 14,
     "metadata": {},
     "output_type": "execute_result"
    }
   ],
   "source": [
    "DT.datetime.strftime(d, '%d-%m-%Y') # to format time into strings"
   ]
  },
  {
   "cell_type": "code",
   "execution_count": 15,
   "id": "52ef30fb-07fd-421f-9d51-80037b355c28",
   "metadata": {},
   "outputs": [
    {
     "data": {
      "text/plain": [
       "'2022-01-2022'"
      ]
     },
     "execution_count": 15,
     "metadata": {},
     "output_type": "execute_result"
    }
   ],
   "source": [
    "DT.datetime.strftime(d, '%Y-%m-%Y') # to format time into strings"
   ]
  },
  {
   "cell_type": "code",
   "execution_count": 18,
   "id": "baf1d1db-0b7d-42bd-9d60-043f66fd309d",
   "metadata": {},
   "outputs": [],
   "source": [
    "from datetime import date as D"
   ]
  },
  {
   "cell_type": "code",
   "execution_count": 19,
   "id": "6d0d2f2d-aabc-4dfa-9333-bfb15283ab9f",
   "metadata": {},
   "outputs": [
    {
     "data": {
      "text/plain": [
       "datetime.date(2022, 1, 16)"
      ]
     },
     "execution_count": 19,
     "metadata": {},
     "output_type": "execute_result"
    }
   ],
   "source": [
    "D.today()"
   ]
  },
  {
   "cell_type": "code",
   "execution_count": 21,
   "id": "3e530ddd-27d3-4c32-8150-538328efed46",
   "metadata": {},
   "outputs": [
    {
     "data": {
      "text/plain": [
       "datetime.datetime(2022, 1, 16, 18, 37, 34, 694002)"
      ]
     },
     "execution_count": 21,
     "metadata": {},
     "output_type": "execute_result"
    }
   ],
   "source": [
    "DT.now()"
   ]
  },
  {
   "cell_type": "markdown",
   "id": "95d7a5b0-9dc6-4495-8c5d-3cb93ef35307",
   "metadata": {},
   "source": [
    "* strptime() will convert string to datetime\n",
    "* strftime() will format a datetime to Sting"
   ]
  },
  {
   "cell_type": "code",
   "execution_count": 23,
   "id": "a0b41991-3008-4136-9ee0-fadd98dca252",
   "metadata": {},
   "outputs": [
    {
     "name": "stdout",
     "output_type": "stream",
     "text": [
      "2022-01-16 00:00:00\n"
     ]
    }
   ],
   "source": [
    "d = DT.strptime('16-01-2022', '%d-%m-%Y')\n",
    "print(d)"
   ]
  },
  {
   "cell_type": "code",
   "execution_count": 24,
   "id": "1a0df460-f3c3-4847-b5c3-db386e53b887",
   "metadata": {},
   "outputs": [
    {
     "data": {
      "text/plain": [
       "'2022-01-16'"
      ]
     },
     "execution_count": 24,
     "metadata": {},
     "output_type": "execute_result"
    }
   ],
   "source": [
    "DT.strftime(d, '%Y-%m-%d')"
   ]
  },
  {
   "cell_type": "code",
   "execution_count": 29,
   "id": "29d4445b-03fe-4293-a31b-6bb8d6d52b0b",
   "metadata": {},
   "outputs": [
    {
     "ename": "AttributeError",
     "evalue": "type object 'datetime.date' has no attribute 'strptime'",
     "output_type": "error",
     "traceback": [
      "\u001b[1;31m---------------------------------------------------------------------------\u001b[0m",
      "\u001b[1;31mAttributeError\u001b[0m                            Traceback (most recent call last)",
      "Input \u001b[1;32mIn [29]\u001b[0m, in \u001b[0;36m<module>\u001b[1;34m\u001b[0m\n\u001b[1;32m----> 1\u001b[0m dt \u001b[38;5;241m=\u001b[39m \u001b[43mD\u001b[49m\u001b[38;5;241;43m.\u001b[39;49m\u001b[43mstrptime\u001b[49m(\u001b[38;5;124m'\u001b[39m\u001b[38;5;124m2022-01-22\u001b[39m\u001b[38;5;124m'\u001b[39m, \u001b[38;5;124m'\u001b[39m\u001b[38;5;124m%\u001b[39m\u001b[38;5;124mY-\u001b[39m\u001b[38;5;124m%\u001b[39m\u001b[38;5;124mm-\u001b[39m\u001b[38;5;132;01m%d\u001b[39;00m\u001b[38;5;124m'\u001b[39m)\n",
      "\u001b[1;31mAttributeError\u001b[0m: type object 'datetime.date' has no attribute 'strptime'"
     ]
    }
   ],
   "source": [
    "dt = DT.strptime('2022-01-22', '%Y-%m-%d')"
   ]
  },
  {
   "cell_type": "code",
   "execution_count": 27,
   "id": "b280f75a-ba5d-4b1d-b533-7bd1f9d95881",
   "metadata": {},
   "outputs": [
    {
     "data": {
      "text/plain": [
       "\u001b[1;31mInit signature:\u001b[0m \u001b[0mD\u001b[0m\u001b[1;33m(\u001b[0m\u001b[0mself\u001b[0m\u001b[1;33m,\u001b[0m \u001b[1;33m/\u001b[0m\u001b[1;33m,\u001b[0m \u001b[1;33m*\u001b[0m\u001b[0margs\u001b[0m\u001b[1;33m,\u001b[0m \u001b[1;33m**\u001b[0m\u001b[0mkwargs\u001b[0m\u001b[1;33m)\u001b[0m\u001b[1;33m\u001b[0m\u001b[1;33m\u001b[0m\u001b[0m\n",
       "\u001b[1;31mDocstring:\u001b[0m      date(year, month, day) --> date object\n",
       "\u001b[1;31mFile:\u001b[0m           c:\\users\\mmuru\\appdata\\local\\programs\\python\\python310\\lib\\datetime.py\n",
       "\u001b[1;31mType:\u001b[0m           type\n",
       "\u001b[1;31mSubclasses:\u001b[0m     datetime\n"
      ]
     },
     "metadata": {},
     "output_type": "display_data"
    }
   ],
   "source": [
    "D?"
   ]
  },
  {
   "cell_type": "code",
   "execution_count": 28,
   "id": "39796dcf-61f6-40c5-9b3c-a4884ad6f4ff",
   "metadata": {},
   "outputs": [
    {
     "ename": "TypeError",
     "evalue": "'str' object cannot be interpreted as an integer",
     "output_type": "error",
     "traceback": [
      "\u001b[1;31m---------------------------------------------------------------------------\u001b[0m",
      "\u001b[1;31mTypeError\u001b[0m                                 Traceback (most recent call last)",
      "Input \u001b[1;32mIn [28]\u001b[0m, in \u001b[0;36m<module>\u001b[1;34m\u001b[0m\n\u001b[1;32m----> 1\u001b[0m \u001b[43mD\u001b[49m\u001b[43m(\u001b[49m\u001b[38;5;124;43m'\u001b[39;49m\u001b[38;5;124;43m2022-01-22\u001b[39;49m\u001b[38;5;124;43m'\u001b[39;49m\u001b[43m)\u001b[49m\n",
      "\u001b[1;31mTypeError\u001b[0m: 'str' object cannot be interpreted as an integer"
     ]
    }
   ],
   "source": [
    "D('2022-01-22')"
   ]
  },
  {
   "cell_type": "markdown",
   "id": "558695e9-7c31-40f2-b24f-d002a27771fc",
   "metadata": {},
   "source": [
    "## Calendar object in Python"
   ]
  },
  {
   "cell_type": "code",
   "execution_count": 30,
   "id": "91dd2cec-edf4-4c77-b945-a3add1e8a8f5",
   "metadata": {},
   "outputs": [],
   "source": [
    "import calendar"
   ]
  },
  {
   "cell_type": "code",
   "execution_count": 31,
   "id": "fc1244f0-3412-4238-9b93-8cf6ad76ec27",
   "metadata": {},
   "outputs": [
    {
     "data": {
      "text/plain": [
       "<calendar._localized_day at 0x2063a7bdf60>"
      ]
     },
     "execution_count": 31,
     "metadata": {},
     "output_type": "execute_result"
    }
   ],
   "source": [
    "calendar.day_name"
   ]
  },
  {
   "cell_type": "code",
   "execution_count": 32,
   "id": "a80aef19-a062-4fb9-828f-f8b567e7f0bd",
   "metadata": {},
   "outputs": [
    {
     "data": {
      "text/plain": [
       "['Monday', 'Tuesday', 'Wednesday', 'Thursday', 'Friday', 'Saturday', 'Sunday']"
      ]
     },
     "execution_count": 32,
     "metadata": {},
     "output_type": "execute_result"
    }
   ],
   "source": [
    "list(calendar.day_name)"
   ]
  },
  {
   "cell_type": "code",
   "execution_count": 33,
   "id": "c980a3aa-8a17-4802-9c1a-3de8a95c917f",
   "metadata": {},
   "outputs": [
    {
     "data": {
      "text/plain": [
       "'Monday'"
      ]
     },
     "execution_count": 33,
     "metadata": {},
     "output_type": "execute_result"
    }
   ],
   "source": [
    "calendar.day_name[0]"
   ]
  },
  {
   "cell_type": "code",
   "execution_count": 34,
   "id": "95275895-9bca-49a8-bda5-79a76d4d9fb7",
   "metadata": {},
   "outputs": [],
   "source": [
    "d = D.today()"
   ]
  },
  {
   "cell_type": "code",
   "execution_count": 36,
   "id": "33efbbf3-1248-4d16-8f2f-244cd8c2f0b1",
   "metadata": {},
   "outputs": [
    {
     "data": {
      "text/plain": [
       "\u001b[1;31mSignature:\u001b[0m \u001b[0mcalendar\u001b[0m\u001b[1;33m.\u001b[0m\u001b[0mweekday\u001b[0m\u001b[1;33m(\u001b[0m\u001b[0myear\u001b[0m\u001b[1;33m,\u001b[0m \u001b[0mmonth\u001b[0m\u001b[1;33m,\u001b[0m \u001b[0mday\u001b[0m\u001b[1;33m)\u001b[0m\u001b[1;33m\u001b[0m\u001b[1;33m\u001b[0m\u001b[0m\n",
       "\u001b[1;31mDocstring:\u001b[0m Return weekday (0-6 ~ Mon-Sun) for year, month (1-12), day (1-31).\n",
       "\u001b[1;31mFile:\u001b[0m      c:\\users\\mmuru\\appdata\\local\\programs\\python\\python310\\lib\\calendar.py\n",
       "\u001b[1;31mType:\u001b[0m      function\n"
      ]
     },
     "metadata": {},
     "output_type": "display_data"
    }
   ],
   "source": [
    "calendar.weekday?"
   ]
  },
  {
   "cell_type": "code",
   "execution_count": 37,
   "id": "b558c88e-0b6f-4f9f-af29-8ba7e8f45450",
   "metadata": {},
   "outputs": [
    {
     "data": {
      "text/plain": [
       "2022"
      ]
     },
     "execution_count": 37,
     "metadata": {},
     "output_type": "execute_result"
    }
   ],
   "source": [
    "d.year"
   ]
  },
  {
   "cell_type": "code",
   "execution_count": 38,
   "id": "881c8d9d-9928-439e-ae7c-34e43865cc5d",
   "metadata": {},
   "outputs": [
    {
     "data": {
      "text/plain": [
       "16"
      ]
     },
     "execution_count": 38,
     "metadata": {},
     "output_type": "execute_result"
    }
   ],
   "source": [
    "d.day"
   ]
  },
  {
   "cell_type": "code",
   "execution_count": 39,
   "id": "ac0395bc-2d3e-4cf9-895e-3e237c406b82",
   "metadata": {},
   "outputs": [
    {
     "data": {
      "text/plain": [
       "1"
      ]
     },
     "execution_count": 39,
     "metadata": {},
     "output_type": "execute_result"
    }
   ],
   "source": [
    "d.month"
   ]
  },
  {
   "cell_type": "code",
   "execution_count": 40,
   "id": "3dc17358-e866-43f6-b2f4-814f1e114686",
   "metadata": {},
   "outputs": [
    {
     "data": {
      "text/plain": [
       "6"
      ]
     },
     "execution_count": 40,
     "metadata": {},
     "output_type": "execute_result"
    }
   ],
   "source": [
    "calendar.weekday(d.year, d.month, d.day)"
   ]
  },
  {
   "cell_type": "code",
   "execution_count": 41,
   "id": "3ac4d59b-b84d-40f8-84a5-3d007bb7907c",
   "metadata": {},
   "outputs": [
    {
     "data": {
      "text/plain": [
       "'Sunday'"
      ]
     },
     "execution_count": 41,
     "metadata": {},
     "output_type": "execute_result"
    }
   ],
   "source": [
    "calendar.day_name[calendar.weekday(d.year, d.month, d.day)]"
   ]
  },
  {
   "cell_type": "code",
   "execution_count": null,
   "id": "0211ceb2-2a45-4c3d-987d-73d0d8eded67",
   "metadata": {},
   "outputs": [],
   "source": []
  }
 ],
 "metadata": {
  "kernelspec": {
   "display_name": "Python 3 (ipykernel)",
   "language": "python",
   "name": "python3"
  },
  "language_info": {
   "codemirror_mode": {
    "name": "ipython",
    "version": 3
   },
   "file_extension": ".py",
   "mimetype": "text/x-python",
   "name": "python",
   "nbconvert_exporter": "python",
   "pygments_lexer": "ipython3",
   "version": "3.10.1"
  }
 },
 "nbformat": 4,
 "nbformat_minor": 5
}
