{
 "cells": [
  {
   "cell_type": "markdown",
   "id": "f7dbf86d-6f22-4f6b-88ed-3327b06418ee",
   "metadata": {},
   "source": [
    "str - type name of string. It is a collection"
   ]
  },
  {
   "cell_type": "code",
   "execution_count": 1,
   "id": "b3c22730-6e88-4635-b0c5-104c1333b01c",
   "metadata": {},
   "outputs": [
    {
     "data": {
      "text/plain": [
       "str"
      ]
     },
     "execution_count": 1,
     "metadata": {},
     "output_type": "execute_result"
    }
   ],
   "source": [
    "s = \"hello world\"\n",
    "type(s)"
   ]
  },
  {
   "cell_type": "code",
   "execution_count": 2,
   "id": "9c7ac96c-41c7-45c1-b1be-fdbaaa43f043",
   "metadata": {},
   "outputs": [
    {
     "name": "stdout",
     "output_type": "stream",
     "text": [
      "hello world\n"
     ]
    }
   ],
   "source": [
    "print(s)"
   ]
  },
  {
   "cell_type": "code",
   "execution_count": 3,
   "id": "e339a6a4-f8e9-46df-9e31-9ed1957c4a9f",
   "metadata": {},
   "outputs": [
    {
     "data": {
      "text/plain": [
       "'hello'"
      ]
     },
     "execution_count": 3,
     "metadata": {},
     "output_type": "execute_result"
    }
   ],
   "source": [
    "s[:5]"
   ]
  },
  {
   "cell_type": "code",
   "execution_count": 4,
   "id": "b4d4aa40-35e0-41ac-9a44-3400067d75d0",
   "metadata": {},
   "outputs": [
    {
     "data": {
      "text/plain": [
       "'world'"
      ]
     },
     "execution_count": 4,
     "metadata": {},
     "output_type": "execute_result"
    }
   ],
   "source": [
    "s[-5:]"
   ]
  },
  {
   "cell_type": "code",
   "execution_count": 5,
   "id": "c1a5be61-5bdc-4480-88bd-abc871155c2d",
   "metadata": {},
   "outputs": [
    {
     "data": {
      "text/plain": [
       "11"
      ]
     },
     "execution_count": 5,
     "metadata": {},
     "output_type": "execute_result"
    }
   ],
   "source": [
    "len(s)"
   ]
  },
  {
   "cell_type": "code",
   "execution_count": 7,
   "id": "a4636a12-ae91-45e6-a8e1-e6b6b7d1e62c",
   "metadata": {},
   "outputs": [
    {
     "data": {
      "text/plain": [
       "[' ', 'd', 'e', 'h', 'l', 'l', 'l', 'o', 'o', 'r', 'w']"
      ]
     },
     "execution_count": 7,
     "metadata": {},
     "output_type": "execute_result"
    }
   ],
   "source": [
    "sorted(s)"
   ]
  },
  {
   "cell_type": "code",
   "execution_count": 8,
   "id": "a95aa31b-175b-43de-9008-bf262a225987",
   "metadata": {},
   "outputs": [
    {
     "data": {
      "text/plain": [
       "'cust1, Muru, Mariappan, 16-01-2022, 30'"
      ]
     },
     "execution_count": 8,
     "metadata": {},
     "output_type": "execute_result"
    }
   ],
   "source": [
    "#string split and manipulations\n",
    "row = 'cust1, Muru, Mariappan, 16-01-2022, 30'\n",
    "row"
   ]
  },
  {
   "cell_type": "code",
   "execution_count": 9,
   "id": "c4c72b4f-1a10-4589-8566-0145f692f40f",
   "metadata": {},
   "outputs": [
    {
     "data": {
      "text/plain": [
       "['cust1,', 'Muru,', 'Mariappan,', '16-01-2022,', '30']"
      ]
     },
     "execution_count": 9,
     "metadata": {},
     "output_type": "execute_result"
    }
   ],
   "source": [
    "row.split()"
   ]
  },
  {
   "cell_type": "code",
   "execution_count": 10,
   "id": "ddbe8db4-5411-42f0-901e-c357c6c446ae",
   "metadata": {},
   "outputs": [
    {
     "data": {
      "text/plain": [
       "['cust1', ' Muru', ' Mariappan', ' 16-01-2022', ' 30']"
      ]
     },
     "execution_count": 10,
     "metadata": {},
     "output_type": "execute_result"
    }
   ],
   "source": [
    "row.split(',')"
   ]
  },
  {
   "cell_type": "code",
   "execution_count": 11,
   "id": "24ce3478-cf83-4bc1-b626-5ccba734f9db",
   "metadata": {},
   "outputs": [
    {
     "data": {
      "text/plain": [
       "'cust1'"
      ]
     },
     "execution_count": 11,
     "metadata": {},
     "output_type": "execute_result"
    }
   ],
   "source": [
    "row.split(',')[0]"
   ]
  },
  {
   "cell_type": "code",
   "execution_count": 12,
   "id": "65d42987-f2ee-4a5a-bf83-df6d202ca265",
   "metadata": {},
   "outputs": [
    {
     "data": {
      "text/plain": [
       "' Mariappan'"
      ]
     },
     "execution_count": 12,
     "metadata": {},
     "output_type": "execute_result"
    }
   ],
   "source": [
    "row.split(',')[2]"
   ]
  },
  {
   "cell_type": "code",
   "execution_count": 13,
   "id": "48f08290-61d2-4ea2-8991-bdf363e28d52",
   "metadata": {},
   "outputs": [
    {
     "data": {
      "text/plain": [
       "'Mariappan'"
      ]
     },
     "execution_count": 13,
     "metadata": {},
     "output_type": "execute_result"
    }
   ],
   "source": [
    "row.split(',')[2].strip()"
   ]
  },
  {
   "cell_type": "code",
   "execution_count": 14,
   "id": "cfa8d2d4-c014-46ad-9a98-dfa8aeb16f80",
   "metadata": {},
   "outputs": [
    {
     "data": {
      "text/plain": [
       "'MARIAPPAN'"
      ]
     },
     "execution_count": 14,
     "metadata": {},
     "output_type": "execute_result"
    }
   ],
   "source": [
    "row.split(',')[2].strip().upper()"
   ]
  },
  {
   "cell_type": "code",
   "execution_count": 15,
   "id": "61cb55fa-ead0-4069-97a0-c72164dbba2c",
   "metadata": {},
   "outputs": [
    {
     "data": {
      "text/plain": [
       "'mariappan'"
      ]
     },
     "execution_count": 15,
     "metadata": {},
     "output_type": "execute_result"
    }
   ],
   "source": [
    "row.split(',')[2].strip().lower()"
   ]
  },
  {
   "cell_type": "code",
   "execution_count": 17,
   "id": "d7c35dd5-5378-4539-9bac-7980ee17a8eb",
   "metadata": {},
   "outputs": [
    {
     "data": {
      "text/plain": [
       "'Muru Mariappan'"
      ]
     },
     "execution_count": 17,
     "metadata": {},
     "output_type": "execute_result"
    }
   ],
   "source": [
    "(row.split(',')[1] + row.split(',')[2]).strip()"
   ]
  },
  {
   "cell_type": "code",
   "execution_count": 18,
   "id": "48e75c85-a6da-4823-a63a-624336a31a4b",
   "metadata": {},
   "outputs": [
    {
     "data": {
      "text/plain": [
       "'Muru mariappan'"
      ]
     },
     "execution_count": 18,
     "metadata": {},
     "output_type": "execute_result"
    }
   ],
   "source": [
    "(row.split(',')[1] + row.split(',')[2]).strip().capitalize()"
   ]
  },
  {
   "cell_type": "code",
   "execution_count": null,
   "id": "0cd62191-86c1-44bd-95e1-a7b436bf995d",
   "metadata": {},
   "outputs": [],
   "source": []
  }
 ],
 "metadata": {
  "kernelspec": {
   "display_name": "Python 3 (ipykernel)",
   "language": "python",
   "name": "python3"
  },
  "language_info": {
   "codemirror_mode": {
    "name": "ipython",
    "version": 3
   },
   "file_extension": ".py",
   "mimetype": "text/x-python",
   "name": "python",
   "nbconvert_exporter": "python",
   "pygments_lexer": "ipython3",
   "version": "3.10.1"
  }
 },
 "nbformat": 4,
 "nbformat_minor": 5
}
