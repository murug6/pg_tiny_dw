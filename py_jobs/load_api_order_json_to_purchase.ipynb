{
 "cells": [
  {
   "cell_type": "markdown",
   "id": "7d899635-3336-4abe-bad9-e83ea35e01e5",
   "metadata": {},
   "source": [
    "this is to load the orders to Purchase table\n",
    "API GW will get the Order in Json format\n",
    "Lambda will laod JSON to Purchase table"
   ]
  }
 ],
 "metadata": {
  "kernelspec": {
   "display_name": "Python 3 (ipykernel)",
   "language": "python",
   "name": "python3"
  },
  "language_info": {
   "codemirror_mode": {
    "name": "ipython",
    "version": 3
   },
   "file_extension": ".py",
   "mimetype": "text/x-python",
   "name": "python",
   "nbconvert_exporter": "python",
   "pygments_lexer": "ipython3",
   "version": "3.7.10"
  }
 },
 "nbformat": 4,
 "nbformat_minor": 5
}
