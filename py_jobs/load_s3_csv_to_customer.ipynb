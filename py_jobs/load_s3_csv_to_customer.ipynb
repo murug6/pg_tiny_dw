{
 "cells": [
  {
   "cell_type": "markdown",
   "id": "feeb19f9-2804-4799-a74d-36a2f4e14ba0",
   "metadata": {},
   "source": [
    "master data of customer will be loaded via S3\n",
    "upload to S3 will trigger lambda\n",
    "lambda will load CSV to customer"
   ]
  }
 ],
 "metadata": {
  "kernelspec": {
   "display_name": "Python 3 (ipykernel)",
   "language": "python",
   "name": "python3"
  },
  "language_info": {
   "codemirror_mode": {
    "name": "ipython",
    "version": 3
   },
   "file_extension": ".py",
   "mimetype": "text/x-python",
   "name": "python",
   "nbconvert_exporter": "python",
   "pygments_lexer": "ipython3",
   "version": "3.7.10"
  }
 },
 "nbformat": 4,
 "nbformat_minor": 5
}
