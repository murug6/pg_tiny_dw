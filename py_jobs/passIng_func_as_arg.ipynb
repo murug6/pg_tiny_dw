{
 "cells": [
  {
   "cell_type": "markdown",
   "id": "7ec7624a-8cb6-4b7c-b585-e84fd6140496",
   "metadata": {},
   "source": [
    "## Passing Functions as Arguments¶\n",
    "* The function which takes other functions as arguments is typically called as higher order function and the function which is passed as argument is called as lower order function.\n",
    "* You need to define all the functions you want to pass as argument for the higher order functions.\n",
    "* For simple functionality, we can also pass unnamed functions or lambda functions on the fly. We will see as part of the next topic.\n",
    "* Let us take the example of getting sum of integers, squares, cubes and evens related to passing functions as arguments."
   ]
  },
  {
   "cell_type": "code",
   "execution_count": 1,
   "id": "aa10a9d5-36de-4d9e-8152-9799d33b4eb9",
   "metadata": {},
   "outputs": [],
   "source": [
    "def perfom_calc(a, b, op):\n",
    "    return op(a,b)\n"
   ]
  },
  {
   "cell_type": "code",
   "execution_count": 2,
   "id": "24d3485b-3c57-439a-9e7b-7ce919e9d7fe",
   "metadata": {},
   "outputs": [],
   "source": [
    "def add(a, b):\n",
    "    return a+b"
   ]
  },
  {
   "cell_type": "code",
   "execution_count": 3,
   "id": "020a9f40-7206-4d04-8c0e-2ab78023c4d4",
   "metadata": {},
   "outputs": [],
   "source": [
    "def sub(a, b):\n",
    "    return a-b"
   ]
  },
  {
   "cell_type": "code",
   "execution_count": 4,
   "id": "d5e61c3d-d6aa-457e-9867-8390beb37257",
   "metadata": {},
   "outputs": [],
   "source": [
    "def mul(a, b):\n",
    "    return a*b"
   ]
  },
  {
   "cell_type": "code",
   "execution_count": 5,
   "id": "ace2af81-a37a-4730-85b5-92fa3bc8a04e",
   "metadata": {},
   "outputs": [],
   "source": [
    "a = 8\n",
    "b = 5"
   ]
  },
  {
   "cell_type": "code",
   "execution_count": 10,
   "id": "cc6babbe-1038-4f5e-9770-4832e8888224",
   "metadata": {},
   "outputs": [
    {
     "data": {
      "text/plain": [
       "13"
      ]
     },
     "execution_count": 10,
     "metadata": {},
     "output_type": "execute_result"
    }
   ],
   "source": [
    "perfom_calc(a,b,add)"
   ]
  },
  {
   "cell_type": "code",
   "execution_count": 11,
   "id": "ec0571b2-2d03-4b6e-8594-ba34d35753e6",
   "metadata": {},
   "outputs": [
    {
     "data": {
      "text/plain": [
       "3"
      ]
     },
     "execution_count": 11,
     "metadata": {},
     "output_type": "execute_result"
    }
   ],
   "source": [
    "perfom_calc(a,b,sub)"
   ]
  },
  {
   "cell_type": "code",
   "execution_count": 12,
   "id": "87d950ec-81f2-4d06-8726-133d3bceff67",
   "metadata": {},
   "outputs": [
    {
     "data": {
      "text/plain": [
       "40"
      ]
     },
     "execution_count": 12,
     "metadata": {},
     "output_type": "execute_result"
    }
   ],
   "source": [
    "perfom_calc(a,b,mul)"
   ]
  },
  {
   "cell_type": "code",
   "execution_count": null,
   "id": "04cadc0a-7330-47ba-8667-b969d4ca65ae",
   "metadata": {},
   "outputs": [],
   "source": []
  },
  {
   "cell_type": "code",
   "execution_count": null,
   "id": "3c3d1130-d01e-4161-8af1-9f98d190024e",
   "metadata": {},
   "outputs": [],
   "source": []
  }
 ],
 "metadata": {
  "kernelspec": {
   "display_name": "Python 3 (ipykernel)",
   "language": "python",
   "name": "python3"
  },
  "language_info": {
   "codemirror_mode": {
    "name": "ipython",
    "version": 3
   },
   "file_extension": ".py",
   "mimetype": "text/x-python",
   "name": "python",
   "nbconvert_exporter": "python",
   "pygments_lexer": "ipython3",
   "version": "3.10.1"
  }
 },
 "nbformat": 4,
 "nbformat_minor": 5
}
