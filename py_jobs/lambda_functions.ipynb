{
 "cells": [
  {
   "cell_type": "markdown",
   "id": "6a946896-c067-49b9-9d95-63647bb91555",
   "metadata": {},
   "source": [
    "## Lambda functions\n",
    "* when passing a function as an argument you can use lamda funtions\n",
    "* a lambda function is a function without name, and assignment.\n",
    "* it is a online funtion like ternary operator\n",
    "* lambda function takes an argument and returns a action"
   ]
  },
  {
   "cell_type": "code",
   "execution_count": 2,
   "id": "5f6a43f7-b56d-4171-bc13-c2a1184046c3",
   "metadata": {},
   "outputs": [],
   "source": [
    "def perform_calc(a, b , f):\n",
    "    return f(a, b)"
   ]
  },
  {
   "cell_type": "code",
   "execution_count": 3,
   "id": "c6ef3087-b37b-4328-9789-9600bd6499c3",
   "metadata": {},
   "outputs": [],
   "source": [
    "def add(a,b): return a+b # this is a normal function defined in one line."
   ]
  },
  {
   "cell_type": "code",
   "execution_count": 5,
   "id": "8c832591-94ca-49b4-bd76-4eda01229590",
   "metadata": {},
   "outputs": [
    {
     "data": {
      "text/plain": [
       "15"
      ]
     },
     "execution_count": 5,
     "metadata": {},
     "output_type": "execute_result"
    }
   ],
   "source": [
    "perform_calc(5, 3, lambda m,n : m*n) # lambda function"
   ]
  },
  {
   "cell_type": "code",
   "execution_count": 6,
   "id": "ae430bfd-41bf-44fa-93be-b09f3314bc0e",
   "metadata": {},
   "outputs": [
    {
     "data": {
      "text/plain": [
       "2"
      ]
     },
     "execution_count": 6,
     "metadata": {},
     "output_type": "execute_result"
    }
   ],
   "source": [
    "perform_calc(5, 3, lambda m,n : m-n) # lambda function"
   ]
  },
  {
   "cell_type": "code",
   "execution_count": 7,
   "id": "87da9487-d76d-4838-b7e3-da3e4396fd1d",
   "metadata": {},
   "outputs": [
    {
     "data": {
      "text/plain": [
       "125"
      ]
     },
     "execution_count": 7,
     "metadata": {},
     "output_type": "execute_result"
    }
   ],
   "source": [
    "perform_calc(5, 3, lambda m,n : m**n) # lambda function"
   ]
  }
 ],
 "metadata": {
  "kernelspec": {
   "display_name": "Python 3 (ipykernel)",
   "language": "python",
   "name": "python3"
  },
  "language_info": {
   "codemirror_mode": {
    "name": "ipython",
    "version": 3
   },
   "file_extension": ".py",
   "mimetype": "text/x-python",
   "name": "python",
   "nbconvert_exporter": "python",
   "pygments_lexer": "ipython3",
   "version": "3.10.1"
  }
 },
 "nbformat": 4,
 "nbformat_minor": 5
}
